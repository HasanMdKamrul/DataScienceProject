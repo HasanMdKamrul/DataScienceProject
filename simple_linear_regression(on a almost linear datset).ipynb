{
  "nbformat": 4,
  "nbformat_minor": 0,
  "metadata": {
    "colab": {
      "name": "Copy of simple_linear_regression.ipynb",
      "provenance": [],
      "collapsed_sections": [],
      "toc_visible": true,
      "include_colab_link": true
    },
    "kernelspec": {
      "name": "python3",
      "display_name": "Python 3"
    }
  },
  "cells": [
    {
      "cell_type": "markdown",
      "metadata": {
        "id": "view-in-github",
        "colab_type": "text"
      },
      "source": [
        "<a href=\"https://colab.research.google.com/github/HasanMdKamrul/DataScienceProject/blob/main/simple_linear_regression(on%20a%20almost%20linear%20datset).ipynb\" target=\"_parent\"><img src=\"https://colab.research.google.com/assets/colab-badge.svg\" alt=\"Open In Colab\"/></a>"
      ]
    },
    {
      "cell_type": "markdown",
      "metadata": {
        "id": "l_LulNCC8z96"
      },
      "source": [
        "# Simple Linear Regression"
      ]
    },
    {
      "cell_type": "markdown",
      "metadata": {
        "id": "xpXdowrE9DxW"
      },
      "source": [
        "## Importing the libraries"
      ]
    },
    {
      "cell_type": "code",
      "metadata": {
        "id": "cPQIiQcQhl6E"
      },
      "source": [
        "import numpy as np\n",
        "import matplotlib.pyplot as plt\n",
        "import pandas as pd"
      ],
      "execution_count": 5,
      "outputs": []
    },
    {
      "cell_type": "code",
      "metadata": {
        "id": "Y26zgWdpo1k4"
      },
      "source": [
        "# from data preprocessing template we copies the preprocesing part that needed to built our first ML model\n",
        "#import numpy as np ---> Ml models will expect models as numpy outputs \n",
        "# import matplotlib.pyplot as plt ---> To plot some plot and graphs\n",
        "# import pandas as pd ---> import the datasets and create the matrix of features independent and dependent variables"
      ],
      "execution_count": null,
      "outputs": []
    },
    {
      "cell_type": "markdown",
      "metadata": {
        "id": "6JhpWJi59J1p"
      },
      "source": [
        "## Importing the dataset"
      ]
    },
    {
      "cell_type": "code",
      "metadata": {
        "id": "swRqG3Q7kWq1"
      },
      "source": [
        "dataset = pd.read_csv('Salary_Data.csv') # import of datasets using pandas\n",
        "X = dataset.iloc[:, :-1].values # save the data in independent var \n",
        "y = dataset.iloc[:, -1].values # save the data in dependent var "
      ],
      "execution_count": 6,
      "outputs": []
    },
    {
      "cell_type": "markdown",
      "metadata": {
        "id": "AyhQaTwP9RzG"
      },
      "source": [
        "## Splitting the dataset into the Training set and Test set"
      ]
    },
    {
      "cell_type": "code",
      "metadata": {
        "id": "jHooey97lIQV"
      },
      "source": [
        "from sklearn.model_selection import train_test_split # for the splting using the train_test_split method\n",
        "X_train, X_test, y_train, y_test = train_test_split(X, y, test_size = 0.2, random_state = 0) # spliting the data into 4 sets"
      ],
      "execution_count": 7,
      "outputs": []
    },
    {
      "cell_type": "code",
      "metadata": {
        "id": "bXzboBieqr7T",
        "outputId": "a3f990fa-4ddd-4f72-d923-2f59655c5dcf",
        "colab": {
          "base_uri": "https://localhost:8080/",
          "height": 119
        }
      },
      "source": [
        "print(X_test)"
      ],
      "execution_count": 25,
      "outputs": [
        {
          "output_type": "stream",
          "text": [
            "[[ 1.5]\n",
            " [10.3]\n",
            " [ 4.1]\n",
            " [ 3.9]\n",
            " [ 9.5]\n",
            " [ 8.7]]\n"
          ],
          "name": "stdout"
        }
      ]
    },
    {
      "cell_type": "markdown",
      "metadata": {
        "id": "ZijQwFMQ9itx"
      },
      "source": [
        "## Training the Simple Linear Regression model on the Training set"
      ]
    },
    {
      "cell_type": "code",
      "metadata": {
        "id": "V3HVNuHilmds"
      },
      "source": [
        "from sklearn.linear_model import LinearRegression # from sklearn linear module we've imported a class called LinearRegression---> Which will allow us to do simple linear regression on the data(here train set)\n",
        "regressor = LinearRegression() #we've created an instance for LinearRegression class, which takes no arguments, since it's a simple linear regression it has only a matrix of features\n",
        "regressor.fit(X_train, y_train) # on our instance we applied the fit method from the LinearRegression class in order to train our training data. Linear regression applied on the training sets data here--->X_train and y_train\n",
        "y_pred_train = regressor.predict(X_train)"
      ],
      "execution_count": 18,
      "outputs": []
    },
    {
      "cell_type": "code",
      "metadata": {
        "id": "08QrXbGlMk7A"
      },
      "source": [
        "# linear regression trained on the training data set here. in this section"
      ],
      "execution_count": null,
      "outputs": []
    },
    {
      "cell_type": "markdown",
      "metadata": {
        "id": "wa2T1Lq89o5H"
      },
      "source": [
        "## Predicting the Test set results"
      ]
    },
    {
      "cell_type": "code",
      "metadata": {
        "id": "3iqFJE9yuWG9"
      },
      "source": [
        "y_pred_test = regressor.predict(X_test) # Predicted salaries depending on the number of experience in the test datas"
      ],
      "execution_count": 23,
      "outputs": []
    },
    {
      "cell_type": "code",
      "metadata": {
        "id": "8j_4qzfIM1ao"
      },
      "source": [
        "# In the prior section on the training set we've done the training of our model and acording to that noe we are going to predict the salaries of the test set data which is salaries corresponding years of experience"
      ],
      "execution_count": null,
      "outputs": []
    },
    {
      "cell_type": "markdown",
      "metadata": {
        "id": "-zSoMZ-P9v8t"
      },
      "source": [
        "## Visualising the Training set results"
      ]
    },
    {
      "cell_type": "code",
      "metadata": {
        "id": "UZKLkbi3wOdf"
      },
      "source": [
        "# First we are going to implement the real observations data X-> years of experience and then y-> salaries, the observations dot. Use sccater() function\n",
        "# Second we are going to plot the predicted regression line here using . plot() function and years of experience vs the predicted test data result"
      ],
      "execution_count": 19,
      "outputs": []
    },
    {
      "cell_type": "code",
      "metadata": {
        "id": "svBH0AFZN1A0",
        "outputId": "772a4bbb-e5f9-4754-9318-ff2e06967df3",
        "colab": {
          "base_uri": "https://localhost:8080/",
          "height": 295
        }
      },
      "source": [
        "plt.scatter(X_train,y_train, color='red') # Training sets real observations\n",
        "plt.plot(X_train, y_pred_train, color = 'blue') # Traing set regression line with the predicted values as the linear regression line\n",
        "plt.title('Salary Vs Experience (Training set)')\n",
        "plt.xlabel('Years of Experience')\n",
        "plt.ylabel('Salary')\n",
        "plt.show()"
      ],
      "execution_count": 20,
      "outputs": [
        {
          "output_type": "display_data",
          "data": {
            "image/png": "[encoded data removed]",
            "text/plain": [
              "<Figure size 432x288 with 1 Axes>"
            ]
          },
          "metadata": {
            "tags": [],
            "needs_background": "light"
          }
        }
      ]
    },
    {
      "cell_type": "markdown",
      "metadata": {
        "id": "EUX1Vhsv97ZT"
      },
      "source": [
        "## Visualising the Test set results"
      ]
    },
    {
      "cell_type": "code",
      "metadata": {
        "id": "e5CrksitOpRX",
        "outputId": "6d28a09b-d5aa-4672-9077-dc0e7f81a5e6",
        "colab": {
          "base_uri": "https://localhost:8080/",
          "height": 295
        }
      },
      "source": [
        "plt.scatter(X_test,y_test, color='red') # Test sets real observations\n",
        "plt.plot(X_train, y_pred_train, color = 'blue') # Since the regression line for the test and train are same we use the same linear regression line here so change of code\n",
        "plt.title('Salary Vs Experience (Test set)')\n",
        "plt.xlabel('Years of Experience')\n",
        "plt.ylabel('Salary')\n",
        "plt.show()"
      ],
      "execution_count": 21,
      "outputs": [
        {
          "output_type": "display_data",
          "data": {
            "image/png": "[encoded data removed]",
            "text/plain": [
              "<Figure size 432x288 with 1 Axes>"
            ]
          },
          "metadata": {
            "tags": [],
            "needs_background": "light"
          }
        }
      ]
    },
    {
      "cell_type": "code",
      "metadata": {
        "id": "NJDaFaw1Oz4j",
        "outputId": "9cf0e7be-e1d2-4464-8bea-bfe10a05031d",
        "colab": {
          "base_uri": "https://localhost:8080/",
          "height": 295
        }
      },
      "source": [
        "plt.scatter(X_test,y_test, color='red')\n",
        "plt.plot(X_test, y_pred_test, color = 'blue') # To test the test and training regression line are same use this block of code here.\n",
        "plt.title('Salary Vs Experience (Test set)')\n",
        "plt.xlabel('Years of Experience')\n",
        "plt.ylabel('Salary')\n",
        "plt.show()"
      ],
      "execution_count": 24,
      "outputs": [
        {
          "output_type": "display_data",
          "data": {
            "image/png": "[encoded data removed]",
            "text/plain": [
              "<Figure size 432x288 with 1 Axes>"
            ]
          },
          "metadata": {
            "tags": [],
            "needs_background": "light"
          }
        }
      ]
    },
    {
      "cell_type": "markdown",
      "metadata": {
        "id": "LRcNSqVJt2GI"
      },
      "source": [
        "Now let's predict a salary of a person who has 25 years of experience!"
      ]
    },
    {
      "cell_type": "code",
      "metadata": {
        "id": "EXrgyBZfuEiU",
        "outputId": "56082a7e-80e1-428e-bb4e-0e4b409ca6e1",
        "colab": {
          "base_uri": "https://localhost:8080/",
          "height": 34
        }
      },
      "source": [
        "print(regressor.predict([[25]])) # Refference: y_pred_test = regressor.predict(X_test(years of experience))"
      ],
      "execution_count": 37,
      "outputs": [
        {
          "output_type": "stream",
          "text": [
            "[259594.47731886]\n"
          ],
          "name": "stdout"
        }
      ]
    },
    {
      "cell_type": "markdown",
      "metadata": {
        "id": "WiLV2_GiueEh"
      },
      "source": [
        "Now let's find out the intercept and coefficient of the linear regression method ---> y(Dependent value, which we will predict) = B0(Intercept or contant)+ B1(Coefficient)*x(Independent value_depending this value)"
      ]
    },
    {
      "cell_type": "code",
      "metadata": {
        "id": "Ntk5IU2ovWi-",
        "outputId": "4b155c70-69a5-4b07-bdeb-99e26ded77fd",
        "colab": {
          "base_uri": "https://localhost:8080/",
          "height": 34
        }
      },
      "source": [
        "print(regressor.intercept_) # B0"
      ],
      "execution_count": 39,
      "outputs": [
        {
          "output_type": "stream",
          "text": [
            "26780.09915062818\n"
          ],
          "name": "stdout"
        }
      ]
    },
    {
      "cell_type": "code",
      "metadata": {
        "id": "nzu5WZi7vlYU",
        "outputId": "85e20410-8c82-4336-f8c0-d6457ebf92d5",
        "colab": {
          "base_uri": "https://localhost:8080/",
          "height": 34
        }
      },
      "source": [
        "print(regressor.coef_) # B1"
      ],
      "execution_count": 38,
      "outputs": [
        {
          "output_type": "stream",
          "text": [
            "[9312.57512673]\n"
          ],
          "name": "stdout"
        }
      ]
    }
  ]
}
{
  "nbformat": 4,
  "nbformat_minor": 0,
  "metadata": {
    "colab": {
      "name": "Copy of polynomial_regression.ipynb",
      "provenance": [],
      "collapsed_sections": [],
      "toc_visible": true,
      "include_colab_link": true
    },
    "kernelspec": {
      "name": "python3",
      "display_name": "Python 3"
    }
  },
  "cells": [
    {
      "cell_type": "markdown",
      "metadata": {
        "id": "view-in-github",
        "colab_type": "text"
      },
      "source": [
        "<a href=\"https://colab.research.google.com/github/HasanMdKamrul/DataScienceProject/blob/main/Polynomial_regression(Position_Salaries--%3Edataset).ipynb\" target=\"_parent\"><img src=\"https://colab.research.google.com/assets/colab-badge.svg\" alt=\"Open In Colab\"/></a>"
      ]
    },
    {
      "cell_type": "markdown",
      "metadata": {
        "id": "vN99YjPTDena"
      },
      "source": [
        "# Polynomial Regression"
      ]
    },
    {
      "cell_type": "markdown",
      "metadata": {
        "id": "ZIx_naXnDyHd"
      },
      "source": [
        "## Importing the libraries"
      ]
    },
    {
      "cell_type": "code",
      "metadata": {
        "id": "YAYwYpGBkZaJ"
      },
      "source": [
        "import numpy as np\n",
        "import matplotlib.pyplot as plt\n",
        "import pandas as pd"
      ],
      "execution_count": 80,
      "outputs": []
    },
    {
      "cell_type": "code",
      "metadata": {
        "id": "vpTR1yQUkbxm"
      },
      "source": [
        "# Although the ploynomial regression will help us to deal with the non-linear observations but our co-efficients are not non-linear so that the ploynomial regression is called a polynomial linear regression."
      ],
      "execution_count": null,
      "outputs": []
    },
    {
      "cell_type": "markdown",
      "metadata": {
        "id": "6c8YExmOD5x5"
      },
      "source": [
        "## Importing the dataset"
      ]
    },
    {
      "cell_type": "code",
      "metadata": {
        "id": "yzGMnj9AklkZ"
      },
      "source": [
        "dataset = pd.read_csv('Position_Salaries.csv')\n",
        "X = dataset.iloc[:, 1:-1].values\n",
        "y = dataset.iloc[:, -1].values"
      ],
      "execution_count": 81,
      "outputs": []
    },
    {
      "cell_type": "markdown",
      "metadata": {
        "id": "Le8SEL-YEOLb"
      },
      "source": [
        "## Training the Linear Regression model on the whole dataset"
      ]
    },
    {
      "cell_type": "code",
      "metadata": {
        "id": "F6ArPyE8loF2",
        "outputId": "6796826c-6198-4aa9-9d25-e4bc48f123fb",
        "colab": {
          "base_uri": "https://localhost:8080/",
          "height": 34
        }
      },
      "source": [
        "from sklearn.linear_model import LinearRegression\n",
        "lin_reg = LinearRegression()\n",
        "lin_reg.fit(X,y)"
      ],
      "execution_count": 82,
      "outputs": [
        {
          "output_type": "execute_result",
          "data": {
            "text/plain": [
              "LinearRegression(copy_X=True, fit_intercept=True, n_jobs=None, normalize=False)"
            ]
          },
          "metadata": {
            "tags": []
          },
          "execution_count": 82
        }
      ]
    },
    {
      "cell_type": "code",
      "metadata": {
        "id": "Kvsthoxdix-n"
      },
      "source": [
        "#In this section we're not spliting the datasets into training sets and the test set but why?\n",
        "# Bcz we have a very limited data in out dataset and we only have a matrix of features X(Position level) so that to take the full advantage of the data we've we choose to put all the values to predict our result and thats why we didn't create a test set here. We will predict our result using our training datas only."
      ],
      "execution_count": null,
      "outputs": []
    },
    {
      "cell_type": "markdown",
      "metadata": {
        "id": "Rb5nWuSHEfBV"
      },
      "source": [
        "## Training the Polynomial Regression model on the whole dataset"
      ]
    },
    {
      "cell_type": "code",
      "metadata": {
        "id": "qgjlpfn0jc-m"
      },
      "source": [
        "# If we see our Simple linear regression and the ploynomial regression equation we'll find out that we are only dealing with one matrix of features X. But in ploynomial regression, which is kind of same as our Multiple linear regression in a way but containing only feature of X.\n",
        "# Otherhand, This one matrix of feature X has a polynomial relation among it's features, X1, X1^2 and X1^n. So features will replace by this power of X in the multiple linear regression.\n",
        "# Since we are taking advantage of our whole datas in our training model as it's very small. \n",
        "# Our first task here is to create the new matrix of features X with the nth order term.\n",
        "# Then we will apply the same regression in our newly created dataset with the different orders."
      ],
      "execution_count": 37,
      "outputs": []
    },
    {
      "cell_type": "code",
      "metadata": {
        "id": "dP418DevlX36",
        "outputId": "4492719d-456c-47d7-e3f8-7ee3b682337d",
        "colab": {
          "base_uri": "https://localhost:8080/",
          "height": 34
        }
      },
      "source": [
        "from sklearn.preprocessing import PolynomialFeatures # In order to make our new data with order in the matrix of features X we imported this PolynomialFeatures class.\n",
        "poly_reg = PolynomialFeatures(degree = 4) # An instance is created, where we specify our order of the independent variable. \n",
        "X_poly = ploy_reg.fit_transform(X) # On that instance we applied our transformation which will return us our desired dataset for the polynomial regression model. (Our first task ends here)\n",
        "lin_reg_2 = LinearRegression() #(New instance created for our ploynomial regresiion which is same as the multiple linear regression but with one features with different orders)\n",
        "lin_reg_2.fit(X_poly,y)# Polynomial regression applied at our training data which mean data trained here. (End of our second part)"
      ],
      "execution_count": 83,
      "outputs": [
        {
          "output_type": "execute_result",
          "data": {
            "text/plain": [
              "LinearRegression(copy_X=True, fit_intercept=True, n_jobs=None, normalize=False)"
            ]
          },
          "metadata": {
            "tags": []
          },
          "execution_count": 83
        }
      ]
    },
    {
      "cell_type": "markdown",
      "metadata": {
        "id": "0O8R0tzbEpvy"
      },
      "source": [
        "## Visualising the Linear Regression results"
      ]
    },
    {
      "cell_type": "code",
      "metadata": {
        "id": "A_ldM28to4L5",
        "outputId": "b92c8898-71a1-44d7-843b-5fa82496e5fc",
        "colab": {
          "base_uri": "https://localhost:8080/",
          "height": 295
        }
      },
      "source": [
        "plt.scatter(X, y , color = 'red') # Real observations in linear model \n",
        "plt.plot(X, lin_reg.predict(X), color= 'blue') # Predicted linear regression\n",
        "plt.title('Position Vs Salary (Linear regression model)')\n",
        "plt.xlabel('Position Level')\n",
        "plt.ylabel('Salary')\n",
        "plt.show()"
      ],
      "execution_count": 84,
      "outputs": [
        {
          "output_type": "display_data",
          "data": {
            "image/png": "[encoded data removed]",
            "text/plain": [
              "<Figure size 432x288 with 1 Axes>"
            ]
          },
          "metadata": {
            "tags": [],
            "needs_background": "light"
          }
        }
      ]
    },
    {
      "cell_type": "markdown",
      "metadata": {
        "id": "stOnSo74E52m"
      },
      "source": [
        "## Visualising the Polynomial Regression results"
      ]
    },
    {
      "cell_type": "code",
      "metadata": {
        "id": "EYVb0ybbvDWo",
        "outputId": "dd1e0c09-7ebd-4c93-933f-43b92586fef5",
        "colab": {
          "base_uri": "https://localhost:8080/",
          "height": 295
        }
      },
      "source": [
        "plt.scatter(X, y , color = 'red') # Real observations in linear model \n",
        "plt.plot(X, lin_reg_2.predict(X_poly), color= 'blue') # Predicted Ploynomial regression, where salary which is y is predicted so that we changed it according to our polynomial dataset as order terms.\n",
        "plt.title('Position Vs Salary (Polynimial regression model)')\n",
        "plt.xlabel('Position Level')\n",
        "plt.ylabel('Salary')\n",
        "plt.show()"
      ],
      "execution_count": 85,
      "outputs": [
        {
          "output_type": "display_data",
          "data": {
            "image/png": "[encoded data removed]",
            "text/plain": [
              "<Figure size 432x288 with 1 Axes>"
            ]
          },
          "metadata": {
            "tags": [],
            "needs_background": "light"
          }
        }
      ]
    },
    {
      "cell_type": "code",
      "metadata": {
        "id": "W-xgu_Xm0NFk"
      },
      "source": [
        "# As order increases the polynomial regression line fits more to the model and when we put order 4 here it's kind of overfitted but it's clearly showing that polynomial regression is the perfect fit for this model."
      ],
      "execution_count": null,
      "outputs": []
    },
    {
      "cell_type": "markdown",
      "metadata": {
        "id": "U_qsAMKnE-PJ"
      },
      "source": [
        "## Visualising the Polynomial Regression results (for higher resolution and smoother curve)"
      ]
    },
    {
      "cell_type": "code",
      "metadata": {
        "id": "CGNZpsEDviIM",
        "outputId": "9a92d595-0cbd-4ca1-cde2-ddb894657446",
        "colab": {
          "base_uri": "https://localhost:8080/",
          "height": 295
        }
      },
      "source": [
        "X_grid = np.arange(min(X), max(X), 0.1)\n",
        "X_grid = X_grid.reshape((len(X_grid), 1))\n",
        "plt.scatter(X, y, color = 'red')\n",
        "plt.plot(X_grid, lin_reg_2.predict(poly_reg.fit_transform(X_grid)), color = 'blue')\n",
        "plt.title('Position Vs Salary (Polynomial Regression)')\n",
        "plt.xlabel('Position level')\n",
        "plt.ylabel('Salary')\n",
        "plt.show()"
      ],
      "execution_count": 86,
      "outputs": [
        {
          "output_type": "display_data",
          "data": {
            "image/png": "[encoded data removed]",
            "text/plain": [
              "<Figure size 432x288 with 1 Axes>"
            ]
          },
          "metadata": {
            "tags": [],
            "needs_background": "light"
          }
        }
      ]
    },
    {
      "cell_type": "markdown",
      "metadata": {
        "id": "diyJFZHhFFeK"
      },
      "source": [
        "## Predicting a new result with Linear Regression"
      ]
    },
    {
      "cell_type": "code",
      "metadata": {
        "id": "LAbf6P57wB-Y",
        "outputId": "73ec0e2f-2194-4cb6-976d-c958469646d3",
        "colab": {
          "base_uri": "https://localhost:8080/",
          "height": 34
        }
      },
      "source": [
        "print(lin_reg.predict([[6.5]])) # We want to make prediction at position level 6.5. Fun Fact---> the result of the prediction we're getting here is well above the real one."
      ],
      "execution_count": 87,
      "outputs": [
        {
          "output_type": "stream",
          "text": [
            "[330378.78787879]\n"
          ],
          "name": "stdout"
        }
      ]
    },
    {
      "cell_type": "markdown",
      "metadata": {
        "id": "DW7I7ZVDFNkk"
      },
      "source": [
        "## Predicting a new result with Polynomial Regression"
      ]
    },
    {
      "cell_type": "code",
      "metadata": {
        "id": "5rP7a6A0yesw",
        "outputId": "d79d802d-09db-4972-c25a-4b8a92f94615",
        "colab": {
          "base_uri": "https://localhost:8080/",
          "height": 34
        }
      },
      "source": [
        "print(lin_reg_2.predict(ploy_reg.fit_transform([[6.5]]))) # print(lin_reg_2.predict(X_poly))---> X_poly = poly_reg.fit_transform([[the value we want to predict in our case 6.5]])"
      ],
      "execution_count": 88,
      "outputs": [
        {
          "output_type": "stream",
          "text": [
            "[158862.45265155]\n"
          ],
          "name": "stdout"
        }
      ]
    }
  ]
}